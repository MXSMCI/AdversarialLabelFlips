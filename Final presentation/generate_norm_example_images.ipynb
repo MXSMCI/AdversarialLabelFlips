{
 "cells": [
  {
   "cell_type": "code",
   "execution_count": 1,
   "metadata": {},
   "outputs": [],
   "source": [
    "import numpy as np\n",
    "import matplotlib.pyplot as plt"
   ]
  },
  {
   "cell_type": "code",
   "execution_count": 7,
   "metadata": {},
   "outputs": [
    {
     "data": {
      "image/png": "[encoded data removed]",
      "text/plain": [
       "<Figure size 432x288 with 1 Axes>"
      ]
     },
     "metadata": {
      "needs_background": "light"
     },
     "output_type": "display_data"
    }
   ],
   "source": [
    "l0 = np.zeros( (5,5) )\n",
    "l0[1,4] = 1\n",
    "plt.imshow(l0, cmap=\"plasma\",vmin = -1, vmax = 1)\n",
    "plt.savefig(\"plots/L0.png\")"
   ]
  },
  {
   "cell_type": "code",
   "execution_count": 3,
   "metadata": {},
   "outputs": [
    {
     "data": {
      "text/plain": [
       "array([[-0.05822049,  0.17710243,  0.31729901,  0.33040147,  0.27892234],\n",
       "       [ 0.41697883, -0.13417231, -0.45764269,  0.22490973,  0.46958187],\n",
       "       [-0.28453671, -0.15873347, -0.07083858,  0.37562269,  0.03378295],\n",
       "       [-0.08913823, -0.48538665, -0.43335509,  0.12601454,  0.10400422],\n",
       "       [ 0.0389569 , -0.20718842,  0.15183807, -0.35067961,  0.29526269]])"
      ]
     },
     "execution_count": 3,
     "metadata": {},
     "output_type": "execute_result"
    },
    {
     "data": {
      "image/png": "[encoded data removed]",
      "text/plain": [
       "<Figure size 432x288 with 1 Axes>"
      ]
     },
     "metadata": {
      "needs_background": "light"
     },
     "output_type": "display_data"
    }
   ],
   "source": [
    "l1 = np.random.rand(5,5) - 0.5\n",
    "plt.imshow(l1, cmap=\"plasma\",vmin = -1, vmax = 1)\n",
    "plt.savefig(\"plots/L1.png\")\n",
    "l1"
   ]
  },
  {
   "cell_type": "code",
   "execution_count": 4,
   "metadata": {},
   "outputs": [
    {
     "data": {
      "image/png": "[encoded data removed]",
      "text/plain": [
       "<Figure size 432x288 with 1 Axes>"
      ]
     },
     "metadata": {
      "needs_background": "light"
     },
     "output_type": "display_data"
    }
   ],
   "source": [
    "l2 = np.sqrt(np.abs(l1))*np.sign(l1)\n",
    "plt.imshow(l2, cmap=\"plasma\",vmin = -1, vmax = 1)\n",
    "plt.savefig(\"plots/L2.png\")"
   ]
  },
  {
   "cell_type": "code",
   "execution_count": 5,
   "metadata": {},
   "outputs": [
    {
     "data": {
      "image/png": "[encoded data removed]",
      "text/plain": [
       "<Figure size 432x288 with 1 Axes>"
      ]
     },
     "metadata": {
      "needs_background": "light"
     },
     "output_type": "display_data"
    }
   ],
   "source": [
    "linf = np.sign(l1)\n",
    "plt.imshow(linf,vmin = -5, vmax = 5, cmap=\"plasma\")\n",
    "plt.savefig(\"plots/Linf.png\")"
   ]
  },
  {
   "cell_type": "code",
   "execution_count": null,
   "metadata": {},
   "outputs": [],
   "source": []
  }
 ],
 "metadata": {
  "kernelspec": {
   "display_name": "Python 3",
   "language": "python",
   "name": "python3"
  },
  "language_info": {
   "codemirror_mode": {
    "name": "ipython",
    "version": 3
   },
   "file_extension": ".py",
   "mimetype": "text/x-python",
   "name": "python",
   "nbconvert_exporter": "python",
   "pygments_lexer": "ipython3",
   "version": "3.9.4"
  }
 },
 "nbformat": 4,
 "nbformat_minor": 4
}
