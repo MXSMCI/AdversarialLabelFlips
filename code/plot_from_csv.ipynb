{
 "cells": [
  {
   "cell_type": "code",
   "execution_count": 4,
   "metadata": {},
   "outputs": [],
   "source": [
    "def csv_to_plot(dataset: str, csv_name: str):\n",
    "    # Choose the correct dataset \n",
    "    if dataset == \"MNIST\":\n",
    "        testset = MNIST(**dataset_kwargs)\n",
    "        labels = [str(k) for k in np.arange(10)]\n",
    "    \n",
    "    if dataset == \"FashionMNIST\":\n",
    "        testset = FashionMNIST(**dataset_kwargs)\n",
    "        labels = ['T-shirt', 'Trouser', 'Pullover', 'Dress', 'Coat', \n",
    "                  'Sandal', 'Shirt', 'Sneaker', 'Bag', 'Ankle boot']\n",
    "        \n",
    "    if dataset == \"CIFAR-10\":\n",
    "        testset = CIFAR10(**dataset_kwargs)\n",
    "        labels = ['Airplane', 'Automobile', 'Bird', 'Cat', 'Deer', \n",
    "                  'Dog', 'Frog', 'Horse', 'Ship', 'Truck']    \n",
    "\n",
    "\n",
    "    #df = pd.DataFrame(data=confusion_matrix, index=labels, columns=labels)\n",
    "    \n",
    "    #pd.set_option('display.max_rows', 500)\n",
    "    #pd.set_option('display.max_columns', 500)\n",
    "    #pd.set_option('display.width', 1000)\n",
    "    #print(df)\n",
    "    \n",
    "    \n",
    "    \n",
    "    plt.imshow(confusion_matrix)\n",
    "    plt.xticks(range(len(labels)), labels, size='small')\n",
    "    plt.yticks(range(len(labels)), labels, size='small')\n",
    "    \n",
    "    plt.xticks(rotation=90)\n",
    "    \n",
    "    \n",
    "    ##########################################################################\n",
    "    # Save plot\n",
    "    ##########################################################################\n",
    "    figure_path = \"results\" + os.sep + dataset + os.sep + \"thesis_plots\"+ os.sep + \"csv_name\"\n",
    "    \n",
    "    plt.savefig(figure_path + \".png\")\n",
    "    plt.savefig(figure_path + \".pdf\")\n",
    "        \n",
    "    plt.show()"
   ]
  },
  {
   "cell_type": "code",
   "execution_count": null,
   "metadata": {},
   "outputs": [],
   "source": []
  }
 ],
 "metadata": {
  "kernelspec": {
   "display_name": "Python 3",
   "language": "python",
   "name": "python3"
  },
  "language_info": {
   "codemirror_mode": {
    "name": "ipython",
    "version": 3
   },
   "file_extension": ".py",
   "mimetype": "text/x-python",
   "name": "python",
   "nbconvert_exporter": "python",
   "pygments_lexer": "ipython3",
   "version": "3.9.4"
  }
 },
 "nbformat": 4,
 "nbformat_minor": 4
}
