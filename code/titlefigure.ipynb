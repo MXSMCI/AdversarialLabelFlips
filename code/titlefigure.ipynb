{
 "cells": [
  {
   "cell_type": "code",
   "execution_count": 2,
   "metadata": {},
   "outputs": [],
   "source": [
    "import os\n",
    "import numpy as np\n",
    "import pandas as pd\n",
    "import matplotlib.pyplot as plt\n",
    "\n",
    "from main_symmetry import measure_symmetry\n",
    "\n",
    "def create_plots(dataset, attack_name, epsilons=None, save=False):\n",
    "    print(\"#############################################################\")\n",
    "    print(dataset, attack_name, epsilons)\n",
    "    print(\"#############################################################\")\n",
    "    result_path = \"results\" + os.sep + dataset + os.sep \n",
    "    figure_path = result_path + \"figures\" + os.sep\n",
    "    \n",
    "    if epsilons is None:\n",
    "        df = pd.read_csv(result_path + f\"{attack_name}.csv\")\n",
    "    if epsilons is not None:\n",
    "        df = pd.read_csv(result_path + f\"{attack_name}, epsilon={epsilons}.csv\")\n",
    "    \n",
    "    confusion_matrix = df[df.columns[1:]].to_numpy()\n",
    "    \n",
    "    if dataset == \"MNIST\": \n",
    "        labels = [str(k) for k in np.arange(10)] \n",
    "        \n",
    "    if dataset == \"FashionMNIST\": \n",
    "        labels = ['T-shirt', 'Trouser', 'Pullover', 'Dress', 'Coat', \n",
    "                  'Sandal', 'Shirt', 'Sneaker', 'Bag', 'Ankle boot']\n",
    "        \n",
    "    if dataset == \"CIFAR-10\":\n",
    "        labels = ['Airplane', 'Automobile', 'Bird', 'Cat', 'Deer', \n",
    "                  'Dog', 'Frog', 'Horse', 'Ship', 'Truck']\n",
    "    \n",
    "    plt.imshow(confusion_matrix)\n",
    "    plt.xticks(range(len(labels)), labels, size='small')\n",
    "    plt.yticks(range(len(labels)), labels, size='small')\n",
    "    \n",
    "    plt.xticks(rotation=90)\n",
    "    plt.tight_layout()\n",
    "    #plt.colorbar()\n",
    "    plt.set_cmap(\"viridis\")\n",
    "    \n",
    "    titlesize = 22\n",
    "\n",
    "    sym = str(np.round(measure_symmetry(confusion_matrix),2))\n",
    "    sym = sym + \"0\"*(4-len(sym))\n",
    "    if epsilons is None:\n",
    "        plt.title(f\"Symmetry: {sym}\", fontsize = titlesize)\n",
    "    if epsilons is not None:\n",
    "        plt.title(f\"Symmetry: {sym}, ϵ={epsilons}\", fontsize = titlesize)\n",
    "    \n",
    "    if not save:\n",
    "        plt.show()\n",
    "        return \n",
    "    \n",
    "    if epsilons is None:\n",
    "        plt.savefig(figure_path + f\"{attack_name}.png\", bbox_inches='tight')\n",
    "        plt.savefig(figure_path + f\"{attack_name}.pdf\", bbox_inches='tight')\n",
    "    \n",
    "    if epsilons is not None:\n",
    "        plt.savefig(figure_path + f\"{attack_name}, epsilon={epsilons}.png\", bbox_inches='tight')\n",
    "        plt.savefig(figure_path + f\"{attack_name}, epsilon={epsilons}.pdf\", bbox_inches='tight')"
   ]
  },
  {
   "cell_type": "code",
   "execution_count": 9,
   "metadata": {},
   "outputs": [
    {
     "data": {
      "image/png": "[encoded data removed]",
      "text/plain": [
       "<Figure size 432x288 with 1 Axes>"
      ]
     },
     "metadata": {
      "needs_background": "light"
     },
     "output_type": "display_data"
    }
   ],
   "source": [
    "path = \"results\" + os.sep + \"CIFAR-10\" + os.sep\n",
    "attack_name=\"L0BrendelBethgeAttack\"\n",
    "df = pd.read_csv(path + f\"{attack_name}.csv\")\n",
    "confusion_matrix = df[df.columns[1:]].to_numpy()\n",
    "plt.axis('off')\n",
    "plt.imshow(confusion_matrix)\n",
    "plt.savefig(\"../Seminar thesis/titlefigure.eps\", bbox_inches='tight', format='eps')\n"
   ]
  },
  {
   "cell_type": "code",
   "execution_count": null,
   "metadata": {},
   "outputs": [],
   "source": []
  }
 ],
 "metadata": {
  "kernelspec": {
   "display_name": "Python 3",
   "language": "python",
   "name": "python3"
  },
  "language_info": {
   "codemirror_mode": {
    "name": "ipython",
    "version": 3
   },
   "file_extension": ".py",
   "mimetype": "text/x-python",
   "name": "python",
   "nbconvert_exporter": "python",
   "pygments_lexer": "ipython3",
   "version": "3.9.4"
  }
 },
 "nbformat": 4,
 "nbformat_minor": 4
}
