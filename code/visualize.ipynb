{
 "cells": [
  {
   "cell_type": "code",
   "execution_count": 1,
   "id": "d008d8dc",
   "metadata": {},
   "outputs": [],
   "source": [
    "import os\n",
    "import numpy as np\n",
    "import pandas as pd\n",
    "import matplotlib.pyplot as plt\n",
    "\n",
    "# Torch\n",
    "import torch\n",
    "from torch.utils.data import DataLoader\n",
    "from torchvision.datasets import CIFAR10\n",
    "from torchvision import transforms\n",
    "\n",
    "# Foolbox\n",
    "import foolbox as fb\n",
    "from foolbox import PyTorchModel\n",
    "from foolbox.attacks import LinfPGD, FGSM, L0BrendelBethgeAttack, L1BrendelBethgeAttack, L2CarliniWagnerAttack\n",
    "\n",
    "# Custom modules\n",
    "from utils import compute_confusion_matrix"
   ]
  },
  {
   "cell_type": "code",
   "execution_count": 23,
   "id": "bd1de33b",
   "metadata": {
    "scrolled": true
   },
   "outputs": [
    {
     "name": "stdout",
     "output_type": "stream",
     "text": [
      "{'epsilons': 0.1}\n",
      "Files already downloaded and verified\n",
      "Done\n"
     ]
    }
   ],
   "source": [
    "# Move everything to the GPU if possible\n",
    "device = torch.device('cuda:0' if torch.cuda.is_available() else 'cpu')\n",
    "\n",
    "### CONFIG\n",
    "save_path = \"models\" + os.sep + \"CIFAR-10\" + os.sep\n",
    "\n",
    "#attack, attack_kwargs = L0BrendelBethgeAttack(steps=20), {\"epsilons\": None}\n",
    "#attack, attack_kwargs = L1BrendelBethgeAttack(steps=20), {\"epsilons\": None}\n",
    "#attack, attack_kwargs = L2CarliniWagnerAttack(steps=20), {\"epsilons\": None}\n",
    "#attack, attack_kwargs = FGSM(), {\"epsilons\": 0.01}\n",
    "attack, attack_kwargs = LinfPGD(), {\"epsilons\": 0.1}\n",
    "print(attack_kwargs)    \n",
    "\n",
    "# Load model and move everything to GPU if possible\n",
    "model = torch.load(save_path + 'reference_model_val_acc=0.8023.pt', \n",
    "                   map_location=device)\n",
    "model.eval()\n",
    "\n",
    "\n",
    "# Preparing dataloader\n",
    "transform = transforms.Compose([\n",
    "    transforms.ToTensor(),\n",
    "    transforms.Normalize(mean=0.5, std=1)])\n",
    "testset = CIFAR10(root='./data', download=True, train=False, transform=transform,)\n",
    "kwargs = {\n",
    "    \"batch_size\": 100, \"pin_memory\": True, \"num_workers\": 4,\n",
    "}\n",
    "dataloader = DataLoader(testset, **kwargs)\n",
    "\n",
    "fmodel = PyTorchModel(model, bounds=(-0.5,0.5)) \n",
    "\n",
    "images, labels = next(iter(dataloader))\n",
    "images, labels = images.to(device), labels.to(device) \n",
    "\n",
    "# Attack\n",
    "_, clipped_advs, success = attack(fmodel, images, labels, **attack_kwargs)\n",
    "\n",
    "print(\"Done\")"
   ]
  },
  {
   "cell_type": "code",
   "execution_count": 24,
   "id": "b05de739",
   "metadata": {
    "scrolled": false
   },
   "outputs": [
    {
     "data": {
      "text/plain": [
       "tensor([True, True, True, True, True, True, True, True, True, True, True, True,\n",
       "        True, True, True, True, True, True, True, True, True, True, True, True,\n",
       "        True, True, True, True, True, True, True, True, True, True, True, True,\n",
       "        True, True, True, True, True, True, True, True, True, True, True, True,\n",
       "        True, True, True, True, True, True, True, True, True, True, True, True,\n",
       "        True, True, True, True, True, True, True, True, True, True, True, True,\n",
       "        True, True, True, True, True, True, True, True, True, True, True, True,\n",
       "        True, True, True, True, True, True, True, True, True, True, True, True,\n",
       "        True, True, True, True], device='cuda:0')"
      ]
     },
     "execution_count": 24,
     "metadata": {},
     "output_type": "execute_result"
    }
   ],
   "source": [
    "# Did the attack on this batch succeed?\n",
    "success"
   ]
  },
  {
   "cell_type": "code",
   "execution_count": 25,
   "id": "bce7857e",
   "metadata": {},
   "outputs": [],
   "source": [
    "# Predictions\n",
    "prediction = model(clipped_advs).argmax(dim=1)\n",
    "\n",
    "# Convert images to the correct format for plotting.\n",
    "adversarial_examples = clipped_advs.permute(0, 2, 3, 1) + 0.5\n",
    "original_images = images.permute(0, 2, 3, 1) + 0.5\n",
    "difference = original_images-adversarial_examples\n",
    "\n",
    "# For CIFAR-10\n",
    "names = ['Airplane', 'Automobile', 'Bird', 'Cat', 'Deer', 'Dog', 'Frog', 'Horse', 'Ship', 'Truck']"
   ]
  },
  {
   "cell_type": "code",
   "execution_count": 31,
   "id": "04b4c2b9",
   "metadata": {},
   "outputs": [
    {
     "name": "stdout",
     "output_type": "stream",
     "text": [
      "tensor(True, device='cuda:0')\n"
     ]
    },
    {
     "data": {
      "image/png": "[encoded data removed]",
      "text/plain": [
       "<Figure size 432x288 with 3 Axes>"
      ]
     },
     "metadata": {
      "needs_background": "light"
     },
     "output_type": "display_data"
    }
   ],
   "source": [
    "k = 12\n",
    "fig, axes =  plt.subplots(1,3)\n",
    "\n",
    "axes[0].imshow(original_images[k].cpu())\n",
    "axes[1].imshow(np.abs(difference[k].cpu()))\n",
    "axes[2].imshow(adversarial_examples[k].cpu())\n",
    "\n",
    "axes[0].set_title(f\"{names[labels[k]]}\")\n",
    "axes[1].set_title(\"Difference\")\n",
    "axes[2].set_title(f\"{names[prediction[k]]}\")\n",
    "\n",
    "print(success[k])"
   ]
  },
  {
   "cell_type": "code",
   "execution_count": null,
   "id": "d5959502",
   "metadata": {},
   "outputs": [],
   "source": []
  }
 ],
 "metadata": {
  "kernelspec": {
   "display_name": "Python 3",
   "language": "python",
   "name": "python3"
  },
  "language_info": {
   "codemirror_mode": {
    "name": "ipython",
    "version": 3
   },
   "file_extension": ".py",
   "mimetype": "text/x-python",
   "name": "python",
   "nbconvert_exporter": "python",
   "pygments_lexer": "ipython3",
   "version": "3.8.5"
  }
 },
 "nbformat": 4,
 "nbformat_minor": 5
}
