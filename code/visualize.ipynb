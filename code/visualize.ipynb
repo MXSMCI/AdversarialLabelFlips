{
 "cells": [
  {
   "cell_type": "markdown",
   "id": "baeb3a42",
   "metadata": {},
   "source": [
    "# Attack on CIFAR-10\n",
    "A quick demonstration"
   ]
  },
  {
   "cell_type": "markdown",
   "id": "0b39881a",
   "metadata": {},
   "source": [
    "## Loading modules and specifying model location"
   ]
  },
  {
   "cell_type": "code",
   "execution_count": 1,
   "id": "d008d8dc",
   "metadata": {},
   "outputs": [],
   "source": [
    "import os\n",
    "import numpy as np\n",
    "import pandas as pd\n",
    "import matplotlib.pyplot as plt\n",
    "\n",
    "# Torch\n",
    "import torch\n",
    "from torch.utils.data import DataLoader\n",
    "from torchvision.datasets import CIFAR10\n",
    "from torchvision import transforms\n",
    "\n",
    "# Foolbox\n",
    "import foolbox as fb\n",
    "from foolbox import PyTorchModel\n",
    "from foolbox.attacks import LinfPGD, FGSM, L0BrendelBethgeAttack, L1BrendelBethgeAttack, L2CarliniWagnerAttack\n",
    "\n",
    "# Model path\n",
    "save_path = \"models\" + os.sep + \"CIFAR-10\" + os.sep\n",
    "\n",
    "# Our model and data is put on the GPU if possible\n",
    "device = torch.device('cuda:0' if torch.cuda.is_available() else 'cpu')"
   ]
  },
  {
   "cell_type": "markdown",
   "id": "985e3b2b",
   "metadata": {},
   "source": [
    "## Load model\n",
    "This model was build and pretrained by us."
   ]
  },
  {
   "cell_type": "code",
   "execution_count": 2,
   "id": "00f09196",
   "metadata": {},
   "outputs": [
    {
     "data": {
      "text/plain": [
       "CIFAR_Net(\n",
       "  (conv1): Conv2d(3, 64, kernel_size=(3, 3), stride=(1, 1))\n",
       "  (conv2): Conv2d(64, 64, kernel_size=(3, 3), stride=(1, 1))\n",
       "  (conv3): Conv2d(64, 128, kernel_size=(3, 3), stride=(1, 1))\n",
       "  (conv4): Conv2d(128, 128, kernel_size=(3, 3), stride=(1, 1))\n",
       "  (pool): MaxPool2d(kernel_size=2, stride=2, padding=0, dilation=1, ceil_mode=False)\n",
       "  (dropout): Dropout(p=0.5, inplace=False)\n",
       "  (fc1): Linear(in_features=3200, out_features=256, bias=True)\n",
       "  (fc2): Linear(in_features=256, out_features=256, bias=True)\n",
       "  (fc3): Linear(in_features=256, out_features=10, bias=True)\n",
       ")"
      ]
     },
     "execution_count": 2,
     "metadata": {},
     "output_type": "execute_result"
    }
   ],
   "source": [
    "model = torch.load(save_path + 'reference_model_val_acc=0.8023.pt', \n",
    "                   map_location=device)\n",
    "model.eval()"
   ]
  },
  {
   "cell_type": "markdown",
   "id": "8104c8e5",
   "metadata": {},
   "source": [
    "## Load images and labels"
   ]
  },
  {
   "cell_type": "markdown",
   "id": "c134bbed",
   "metadata": {},
   "source": [
    "Using image augmentation, which was also used during training"
   ]
  },
  {
   "cell_type": "code",
   "execution_count": 3,
   "id": "cbaa4ecd",
   "metadata": {},
   "outputs": [],
   "source": [
    "transform = transforms.Compose([\n",
    "    transforms.ToTensor(),\n",
    "    transforms.Normalize(mean=0.5, std=1)])"
   ]
  },
  {
   "cell_type": "markdown",
   "id": "cd07e245",
   "metadata": {},
   "source": [
    "## Loading testset into data loader"
   ]
  },
  {
   "cell_type": "code",
   "execution_count": 4,
   "id": "c117d91d",
   "metadata": {},
   "outputs": [
    {
     "name": "stdout",
     "output_type": "stream",
     "text": [
      "Files already downloaded and verified\n"
     ]
    }
   ],
   "source": [
    "testset = CIFAR10(root='./data', download=True, train=False, transform=transform,)\n",
    "dataloader = DataLoader(testset, batch_size=50) # This object normal"
   ]
  },
  {
   "cell_type": "markdown",
   "id": "4a111a85",
   "metadata": {},
   "source": [
    "Take only the first batch for this demonstration"
   ]
  },
  {
   "cell_type": "code",
   "execution_count": 5,
   "id": "861af7a1",
   "metadata": {},
   "outputs": [],
   "source": [
    "images, labels = next(iter(dataloader)) # Take first batch, which contains 50 images and labels\n",
    "images, labels = images.to(device), labels.to(device) # Move to the GPU"
   ]
  },
  {
   "cell_type": "markdown",
   "id": "413cf5b5",
   "metadata": {
    "scrolled": true
   },
   "source": [
    "### Pytorch: Choose an attack and execute!"
   ]
  },
  {
   "cell_type": "code",
   "execution_count": 6,
   "id": "bd1de33b",
   "metadata": {
    "scrolled": true
   },
   "outputs": [
    {
     "name": "stdout",
     "output_type": "stream",
     "text": [
      "Done\n"
     ]
    }
   ],
   "source": [
    "attack, attack_kwargs = L0BrendelBethgeAttack(steps=20), {\"epsilons\": None}\n",
    "#attack, attack_kwargs = L1BrendelBethgeAttack(steps=20), {\"epsilons\": None}\n",
    "#attack, attack_kwargs = L2CarliniWagnerAttack(steps=20), {\"epsilons\": None}\n",
    "#attack, attack_kwargs = FGSM(), {\"epsilons\": 0.05}\n",
    "#attack, attack_kwargs = LinfPGD(), {\"epsilons\": 0.05}    \n",
    "\n",
    "# Attack\n",
    "fmodel = PyTorchModel(model, bounds=(-0.5,0.5)) # Convert to foolbox model\n",
    "_, clipped_advs, success = attack(fmodel, images, labels, **attack_kwargs)\n",
    "\n",
    "print(\"Done\")"
   ]
  },
  {
   "cell_type": "code",
   "execution_count": 7,
   "id": "b05de739",
   "metadata": {
    "scrolled": false
   },
   "outputs": [
    {
     "data": {
      "text/plain": [
       "tensor([True, True, True, True, True, True, True, True, True, True, True, True,\n",
       "        True, True, True, True, True, True, True, True, True, True, True, True,\n",
       "        True, True, True, True, True, True, True, True, True, True, True, True,\n",
       "        True, True, True, True, True, True, True, True, True, True, True, True,\n",
       "        True, True])"
      ]
     },
     "execution_count": 7,
     "metadata": {},
     "output_type": "execute_result"
    }
   ],
   "source": [
    "# Did the attack on this batch succeed?\n",
    "success"
   ]
  },
  {
   "cell_type": "code",
   "execution_count": 8,
   "id": "bce7857e",
   "metadata": {},
   "outputs": [],
   "source": [
    "# Predictions\n",
    "prediction = model(clipped_advs).argmax(dim=1)\n",
    "\n",
    "# Convert images to the correct format for plotting.\n",
    "adversarial_examples = clipped_advs.permute(0, 2, 3, 1) + 0.5\n",
    "original_images = images.permute(0, 2, 3, 1) + 0.5\n",
    "difference = original_images-adversarial_examples\n",
    "\n",
    "# For CIFAR-10\n",
    "names = ['Airplane', 'Automobile', 'Bird', 'Cat', 'Deer', 'Dog', 'Frog', 'Horse', 'Ship', 'Truck']"
   ]
  },
  {
   "cell_type": "code",
   "execution_count": 9,
   "id": "04b4c2b9",
   "metadata": {},
   "outputs": [
    {
     "name": "stdout",
     "output_type": "stream",
     "text": [
      "Attack was successful!\n"
     ]
    },
    {
     "data": {
      "image/png": "[encoded data removed]",
      "text/plain": [
       "<Figure size 1152x864 with 3 Axes>"
      ]
     },
     "metadata": {
      "needs_background": "light"
     },
     "output_type": "display_data"
    }
   ],
   "source": [
    "k = 12\n",
    "fig, axes =  plt.subplots(1,3, figsize=(16,12))\n",
    "\n",
    "axes[0].imshow(original_images[k].cpu())\n",
    "axes[1].imshow(np.abs(difference[k].cpu()))\n",
    "axes[2].imshow(adversarial_examples[k].cpu())\n",
    "\n",
    "axes[0].set_title(f\"{names[labels[k]]}\")\n",
    "axes[1].set_title(\"Difference\")\n",
    "axes[2].set_title(f\"{names[prediction[k]]}\")\n",
    "\n",
    "print(\"Attack was successful!\" if success[k] else \"Attack failed\")"
   ]
  }
 ],
 "metadata": {
  "kernelspec": {
   "display_name": "Python 3",
   "language": "python",
   "name": "python3"
  },
  "language_info": {
   "codemirror_mode": {
    "name": "ipython",
    "version": 3
   },
   "file_extension": ".py",
   "mimetype": "text/x-python",
   "name": "python",
   "nbconvert_exporter": "python",
   "pygments_lexer": "ipython3",
   "version": "3.7.10"
  }
 },
 "nbformat": 4,
 "nbformat_minor": 5
}
