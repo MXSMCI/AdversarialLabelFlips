{
 "cells": [
  {
   "cell_type": "code",
   "execution_count": 55,
   "metadata": {},
   "outputs": [],
   "source": [
    "import numpy as np\n",
    "import matplotlib.pyplot as plt\n",
    "\n",
    "def symmetryness(confusion_matrix):\n",
    "    trans = np.transpose(confusion_matrix)\n",
    "    #symmetric component\n",
    "    sym = (confusion_matrix + trans)/2\n",
    "    #remove the diagonal values because, that just means \"attack unsuccessful\" and shouldn't count towards a higher \"symmetry\"\n",
    "    np.fill_diagonal(sym,0)\n",
    "    #print(sym)\n",
    "    #antisymmetric component\n",
    "    skew = (confusion_matrix - trans)/2\n",
    "    #print(skew)\n",
    "    # quotient of the 1-norms of the two matrices\n",
    "    order = 1\n",
    "    norm_skew = np.linalg.norm(skew, ord = order)\n",
    "    norm_sym = np.linalg.norm(sym, ord = order)\n",
    "    symmetryness =  (norm_sym -norm_skew) / (norm_sym + norm_skew)\n",
    "    #symmetryness = norm_sym / norm_skew\n",
    "    return symmetryness"
   ]
  },
  {
   "cell_type": "code",
   "execution_count": 56,
   "metadata": {},
   "outputs": [],
   "source": [
    "hist =[]\n",
    "for i in range(0,100000):\n",
    "    test  = np.random.rand(3,3)\n",
    "    hist.append(symmetryness(test))"
   ]
  },
  {
   "cell_type": "code",
   "execution_count": 57,
   "metadata": {},
   "outputs": [
    {
     "data": {
      "text/plain": [
       "0.4651963256083137"
      ]
     },
     "execution_count": 57,
     "metadata": {},
     "output_type": "execute_result"
    },
    {
     "data": {
      "image/png": "[encoded data removed]",
      "text/plain": [
       "<Figure size 432x288 with 1 Axes>"
      ]
     },
     "metadata": {
      "needs_background": "light"
     },
     "output_type": "display_data"
    }
   ],
   "source": [
    "plt.hist(hist, bins =100)\n",
    "np.mean(hist) # 4.6? ...wierd..."
   ]
  },
  {
   "cell_type": "code",
   "execution_count": 51,
   "metadata": {},
   "outputs": [
    {
     "name": "stdout",
     "output_type": "stream",
     "text": [
      "[[0, 0.25], [0.5, 0]]\n"
     ]
    },
    {
     "data": {
      "text/plain": [
       "0.5"
      ]
     },
     "execution_count": 51,
     "metadata": {},
     "output_type": "execute_result"
    }
   ],
   "source": [
    "ant = [[0,.25],[.5,0]]\n",
    "print(ant)\n",
    "symmetryness(ant)"
   ]
  },
  {
   "cell_type": "code",
   "execution_count": null,
   "metadata": {},
   "outputs": [],
   "source": []
  }
 ],
 "metadata": {
  "kernelspec": {
   "display_name": "Python 3",
   "language": "python",
   "name": "python3"
  },
  "language_info": {
   "codemirror_mode": {
    "name": "ipython",
    "version": 3
   },
   "file_extension": ".py",
   "mimetype": "text/x-python",
   "name": "python",
   "nbconvert_exporter": "python",
   "pygments_lexer": "ipython3",
   "version": "3.9.4"
  }
 },
 "nbformat": 4,
 "nbformat_minor": 4
}
